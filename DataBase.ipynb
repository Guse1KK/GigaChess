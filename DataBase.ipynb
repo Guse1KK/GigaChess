{
 "cells": [
  {
   "cell_type": "code",
   "execution_count": 14,
   "id": "082e98cb",
   "metadata": {},
   "outputs": [],
   "source": [
    "import sqlite3\n",
    "con = sqlite3.connect(\"GigaBase.db\")"
   ]
  },
  {
   "cell_type": "markdown",
   "id": "3e8ce811",
   "metadata": {},
   "source": [
    "cur = con.cursor()"
   ]
  },
  {
   "cell_type": "code",
   "execution_count": 15,
   "id": "aede921d",
   "metadata": {},
   "outputs": [],
   "source": [
    "cur = con.cursor()"
   ]
  },
  {
   "cell_type": "code",
   "execution_count": 18,
   "id": "2c83336e",
   "metadata": {},
   "outputs": [
    {
     "ename": "OperationalError",
     "evalue": "near \"CREATE\": syntax error",
     "output_type": "error",
     "traceback": [
      "\u001b[31m---------------------------------------------------------------------------\u001b[39m",
      "\u001b[31mOperationalError\u001b[39m                          Traceback (most recent call last)",
      "\u001b[36mCell\u001b[39m\u001b[36m \u001b[39m\u001b[32mIn[18]\u001b[39m\u001b[32m, line 1\u001b[39m\n\u001b[32m----> \u001b[39m\u001b[32m1\u001b[39m \u001b[43mcur\u001b[49m\u001b[43m.\u001b[49m\u001b[43mexecute\u001b[49m\u001b[43m(\u001b[49m\u001b[33;43m\"\"\"\u001b[39;49m\u001b[33;43mCREATE TABLE profiles (\u001b[39;49m\n\u001b[32m      2\u001b[39m \u001b[33;43m    id INTEGER PRIMARY KEY AUTOINCREMENT, \u001b[39;49m\n\u001b[32m      3\u001b[39m \u001b[33;43m    username TEXT NOT NULL,              \u001b[39;49m\n\u001b[32m      4\u001b[39m \u001b[33;43m    wins INTEGER DEFAULT 0,              \u001b[39;49m\n\u001b[32m      5\u001b[39m \u001b[33;43m    draws INTEGER DEFAULT 0,  \u001b[39;49m\n\u001b[32m      6\u001b[39m \u001b[33;43m    losses INTEGER DEFAULT 0,               \u001b[39;49m\n\u001b[32m      7\u001b[39m \u001b[33;43m    tg_id TEXT UNIQUE                      \u001b[39;49m\n\u001b[32m      8\u001b[39m \u001b[33;43m)\u001b[39;49m\n\u001b[32m      9\u001b[39m \u001b[33;43mCREATE TABLE games (\u001b[39;49m\n\u001b[32m     10\u001b[39m \u001b[33;43m    id INTEGER PRIMARY KEY AUTOINCREMENT,  \u001b[39;49m\n\u001b[32m     11\u001b[39m \u001b[33;43m    player1 INTEGER NOT NULL,        \u001b[39;49m\n\u001b[32m     12\u001b[39m \u001b[33;43m    status TEXT NOT NULL,                \u001b[39;49m\n\u001b[32m     13\u001b[39m \u001b[33;43m    description TEXT,                \u001b[39;49m\n\u001b[32m     14\u001b[39m \u001b[33;43m    fen TEXT NOT NULL,                \u001b[39;49m\n\u001b[32m     15\u001b[39m \u001b[33;43m    FOREIGN KEY (player1) REFERENCES profiles(id) \u001b[39;49m\n\u001b[32m     16\u001b[39m \u001b[33;43m)\u001b[39;49m\n\u001b[32m     17\u001b[39m \n\u001b[32m     18\u001b[39m \n\u001b[32m     19\u001b[39m \u001b[33;43mPRAGMA foreign_keys = ON; \u001b[39;49m\n\u001b[32m     20\u001b[39m \u001b[33;43m\"\"\"\u001b[39;49m\u001b[43m)\u001b[49m\n",
      "\u001b[31mOperationalError\u001b[39m: near \"CREATE\": syntax error"
     ]
    }
   ],
   "source": [
    "cur.execute(\"\"\"CREATE TABLE profiles (\n",
    "    id INTEGER PRIMARY KEY AUTOINCREMENT, \n",
    "    username TEXT NOT NULL,              \n",
    "    wins INTEGER DEFAULT 0,              \n",
    "    draws INTEGER DEFAULT 0,  \n",
    "    losses INTEGER DEFAULT 0,               \n",
    "    tg_id TEXT UNIQUE                      \n",
    ")\n",
    "CREATE TABLE games (\n",
    "    id INTEGER PRIMARY KEY AUTOINCREMENT,  \n",
    "    player1 INTEGER NOT NULL,        \n",
    "    status TEXT NOT NULL,                \n",
    "    description TEXT,                \n",
    "    fen TEXT NOT NULL,                \n",
    "    FOREIGN KEY (player1) REFERENCES profiles(id) \n",
    ")\n",
    "\n",
    "\n",
    "PRAGMA foreign_keys = ON; \n",
    "\"\"\")"
   ]
  },
  {
   "cell_type": "code",
   "execution_count": 21,
   "id": "5d43ea18",
   "metadata": {},
   "outputs": [
    {
     "data": {
      "text/plain": [
       "<sqlite3.Cursor at 0x19aa0d0b9c0>"
      ]
     },
     "execution_count": 21,
     "metadata": {},
     "output_type": "execute_result"
    }
   ],
   "source": [
    "cur.execute(\"\"\"\n",
    "CREATE TABLE IF NOT EXISTS profiles (\n",
    "    id INTEGER PRIMARY KEY AUTOINCREMENT,\n",
    "    username TEXT NOT NULL,\n",
    "    wins INTEGER DEFAULT 0,\n",
    "    draws INTEGER DEFAULT 0,\n",
    "    losses INTEGER DEFAULT 0,\n",
    "    tg_id TEXT UNIQUE\n",
    ");\n",
    "\"\"\")\n",
    "\n",
    "# Создание таблицы игр\n",
    "cur.execute(\"\"\"\n",
    "CREATE TABLE IF NOT EXISTS games (\n",
    "    id INTEGER PRIMARY KEY AUTOINCREMENT,\n",
    "    player1 INTEGER NOT NULL,\n",
    "    status TEXT NOT NULL,\n",
    "    description TEXT,\n",
    "    fen TEXT NOT NULL,\n",
    "    FOREIGN KEY (player1) REFERENCES profiles(id)\n",
    ");\n",
    "\"\"\")"
   ]
  },
  {
   "cell_type": "code",
   "execution_count": 17,
   "id": "9d774c0c",
   "metadata": {},
   "outputs": [
    {
     "data": {
      "text/plain": [
       "<sqlite3.Cursor at 0x1380fc46340>"
      ]
     },
     "execution_count": 17,
     "metadata": {},
     "output_type": "execute_result"
    }
   ],
   "source": [
    "cur.execute(\"\"\"CREATE TABLE IF NOT EXISTS profile(\n",
    "user_name TEXT,\n",
    " win INTEGER,\n",
    " lose INTEGER,\n",
    " draw INTEGER,\n",
    " tg_id INTEGER)\"\"\")"
   ]
  },
  {
   "cell_type": "code",
   "execution_count": 5,
   "id": "e441af9b",
   "metadata": {},
   "outputs": [
    {
     "name": "stdout",
     "output_type": "stream",
     "text": [
      "[('Muana', 2020), ('bad breaking', 2015)]\n"
     ]
    }
   ],
   "source": [
    "cur.execute('''\n",
    "SELECT title, year FROM movie WHERE year > 2010\n",
    "     \n",
    "''')\n",
    "rows = cur.fetchall()\n",
    "print(rows)"
   ]
  },
  {
   "cell_type": "code",
   "execution_count": 6,
   "id": "84e2423a",
   "metadata": {},
   "outputs": [],
   "source": [
    "cur.execute(\"\"\"\n",
    "UPDATE movie\n",
    "SET YEAR = 2005, SCORE = 10\n",
    "WHERE TITLE = 'Wolf by the woll strit'\n",
    "\n",
    "\n",
    "\"\"\")\n",
    "con.commit()"
   ]
  },
  {
   "cell_type": "code",
   "execution_count": 7,
   "id": "a38ef718",
   "metadata": {},
   "outputs": [
    {
     "data": {
      "text/plain": [
       "<sqlite3.Cursor at 0x1380fddae40>"
      ]
     },
     "execution_count": 7,
     "metadata": {},
     "output_type": "execute_result"
    }
   ],
   "source": [
    "cur.execute(\"\"\"\n",
    "delete from movie\n",
    "where title = \"Monty Python and the Holy Grail\" \n",
    "\"\"\")"
   ]
  },
  {
   "cell_type": "code",
   "execution_count": 13,
   "id": "fc1845c9",
   "metadata": {},
   "outputs": [],
   "source": [
    "con.close()"
   ]
  },
  {
   "cell_type": "code",
   "execution_count": null,
   "id": "ac8db65d",
   "metadata": {},
   "outputs": [],
   "source": []
  }
 ],
 "metadata": {
  "kernelspec": {
   "display_name": "Python 3",
   "language": "python",
   "name": "python3"
  },
  "language_info": {
   "codemirror_mode": {
    "name": "ipython",
    "version": 3
   },
   "file_extension": ".py",
   "mimetype": "text/x-python",
   "name": "python",
   "nbconvert_exporter": "python",
   "pygments_lexer": "ipython3",
   "version": "3.13.5"
  }
 },
 "nbformat": 4,
 "nbformat_minor": 5
}
